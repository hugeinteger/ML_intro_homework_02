{
 "cells": [
  {
   "cell_type": "code",
   "execution_count": 2,
   "metadata": {},
   "outputs": [],
   "source": [
    "# Handin 1\n",
    "# C is the inverse of regularization strength; must be a positive float.\n",
    "# Like in support vector machines, smaller values specify stronger regularization.\n",
    "# C = 1 / lambda = 1 / 0.1 = 10"
   ]
  },
  {
   "cell_type": "code",
   "execution_count": 3,
   "metadata": {},
   "outputs": [],
   "source": [
    "# Iris data set\n",
    "from sklearn.datasets import load_iris\n",
    "\n",
    "iris = load_iris()\n",
    "iris_X, iris_y = iris['data'], iris['target']\n",
    "\n",
    "# There are 3 classes:\n",
    "#     0 setosa\n",
    "#     1 versicolour\n",
    "#     2 virginica\n",
    "# There are 4 real-valued features -sepal  length and width, petal length and width."
   ]
  },
  {
   "cell_type": "code",
   "execution_count": 4,
   "metadata": {},
   "outputs": [],
   "source": [
    "# Voting data set\n",
    "# There are 2 classes:\n",
    "#    0 rebublician\n",
    "#    1 democrate\n",
    "# There are 16 0 or 1 valued features (different properties of voters)\n",
    "import pickle as cp\n",
    "import numpy as np\n",
    "\n",
    "# load data for voting\n",
    "voting_X, voting_y = cp.load(open('voting.pickle', 'rb'))"
   ]
  },
  {
   "cell_type": "code",
   "execution_count": 5,
   "metadata": {},
   "outputs": [],
   "source": [
    "# separate train and test data (80% vs 20%) and shuffle\n",
    "def get_shuffled_data(X: np.ndarray,\n",
    "                      y: np.ndarray) -> tuple :\n",
    "    N, D = X.shape\n",
    "    N_train = int(0.8 * N)\n",
    "\n",
    "    shuffler = np.random.permutation(N)\n",
    "\n",
    "    X_train = X[shuffler[:N_train]]\n",
    "    y_train = y[shuffler[:N_train]]\n",
    "\n",
    "    X_test = X[shuffler[N_train:]]\n",
    "    y_test = y[shuffler[N_train:]]\n",
    "    \n",
    "    return X_train, y_train, X_test, y_test\n"
   ]
  },
  {
   "cell_type": "code",
   "execution_count": 6,
   "metadata": {},
   "outputs": [],
   "source": [
    "from sklearn import linear_model\n",
    "from sklearn.metrics import mean_squared_error\n",
    "\n",
    "# calculate MSE on whole test set using percent_to_train % of training data\n",
    "def get_test_mse(X_train: np.ndarray, y_train: np.ndarray,\n",
    "                 X_test: np.ndarray, y_test: np.ndarray,\n",
    "                 percent_to_train: int) -> float :\n",
    "    \n",
    "    N_train, D = X_train.shape\n",
    "    N_train_small = int(percent_to_train * 0.01  * N_train)\n",
    "       \n",
    "    X_train_small = X_train[:N_train_small]\n",
    "    y_train_small = y_train[:N_train_small]\n",
    "    \n",
    "    log_reg = linear_model.LogisticRegression(C = 10)\n",
    "\n",
    "    log_reg.fit(X_train_small, y_train_small)\n",
    "    \n",
    "    return mean_squared_error(log_reg.predict(X_test), y_test)\n",
    "  \n",
    "# print(get_test_mse(voting_X_train, voting_y_train, voting_X_test, voting_y_test, 20))"
   ]
  },
  {
   "cell_type": "code",
   "execution_count": 13,
   "metadata": {},
   "outputs": [],
   "source": [
    "# do rand_perm_cnt random permutations of a train set\n",
    "# and average out the test error across the runs\n",
    "# allso return training data sizes used for a single run (10%, 20%, ..., 100%)\n",
    "def get_avg_mses(X: np.ndarray, y: np.ndarray,\n",
    "                 rand_perm_cnt: int, k_upper_bound: int) :\n",
    "    i = 0\n",
    "    all_mses = []\n",
    "    tr_data_sizes = []\n",
    "    while i < rand_perm_cnt :\n",
    "        X_train, y_train, X_test, y_test = get_shuffled_data(X, y)\n",
    "        \n",
    "        # Train 10 classifiers, where the k-th classifier is trained using 10k% of the training data.\n",
    "        # For each classifier store the classification error on the test set\n",
    "        mse_list = []\n",
    "        for k in range(1, k_upper_bound) :\n",
    "            mse_list.append(get_test_mse(X_train, y_train, X_test, y_test, k * 10))\n",
    "        \n",
    "        all_mses.append(mse_list)\n",
    "        i = i + 1\n",
    "        if i == 1 :\n",
    "            N_train, D = X_train.shape\n",
    "            for k in range(1, k_upper_bound) :\n",
    "                tr_data_sizes.append(N_train * k * 0.1)\n",
    "    \n",
    "    all_mses = np.asarray(all_mses)\n",
    "    avg_mses = all_mses.mean(axis=0)\n",
    "    \n",
    "    return avg_mses, tr_data_sizes\n",
    "\n",
    "#voting_avg_mses, voting_tr_data_sizes = get_avg_mses(voting_X, voting_y, 1000, 11)\n",
    "#print(voting_avg_mses)"
   ]
  },
  {
   "cell_type": "code",
   "execution_count": 14,
   "metadata": {},
   "outputs": [
    {
     "data": {
      "text/plain": [
       "<matplotlib.figure.Figure at 0x880b5c0>"
      ]
     },
     "metadata": {},
     "output_type": "display_data"
    }
   ],
   "source": [
    "# Handin 2\n",
    "import matplotlib.pyplot as plt\n",
    "\n",
    "# get average test errors on voting data\n",
    "voting_avg_mses, voting_tr_data_sizes = get_avg_mses(voting_X, voting_y, 1000, 11)\n",
    "\n",
    "# get average test errors on voting data\n",
    "iris_avg_mses, iris_tr_data_sizes = get_avg_mses(iris_X, iris_y, 1000, 11)\n",
    "\n",
    "# and plot them as a function of the size of the training data.\n",
    "\n",
    "plt.plot(voting_tr_data_sizes, voting_avg_mses, label = \"Voting Errors\") \n",
    "plt.plot(iris_tr_data_sizes, iris_avg_mses, label = \"Iris Errors\")\n",
    "\n",
    "plt.legend(loc=1)\n",
    "\n",
    "plt.xlabel('Size of Training Data Used')\n",
    "plt.ylabel('Average Errors')\n",
    "\n",
    "plt.show()"
   ]
  },
  {
   "cell_type": "code",
   "execution_count": null,
   "metadata": {},
   "outputs": [],
   "source": []
  }
 ],
 "metadata": {
  "kernelspec": {
   "display_name": "Python 3",
   "language": "python",
   "name": "python3"
  },
  "language_info": {
   "codemirror_mode": {
    "name": "ipython",
    "version": 3
   },
   "file_extension": ".py",
   "mimetype": "text/x-python",
   "name": "python",
   "nbconvert_exporter": "python",
   "pygments_lexer": "ipython3",
   "version": "3.6.4"
  }
 },
 "nbformat": 4,
 "nbformat_minor": 2
}
